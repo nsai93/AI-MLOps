{
  "nbformat": 4,
  "nbformat_minor": 0,
  "metadata": {
    "colab": {
      "provenance": []
    },
    "kernelspec": {
      "name": "python3",
      "display_name": "Python 3"
    },
    "language_info": {
      "name": "python"
    }
  },
  "cells": [
    {
      "cell_type": "code",
      "execution_count": null,
      "metadata": {
        "id": "K4zRKLvNBHvR"
      },
      "outputs": [],
      "source": []
    },
    {
      "cell_type": "markdown",
      "source": [
        "### Geeks-for-Geeks Array program python questions\n"
      ],
      "metadata": {
        "id": "fhpDhIFyBNTO"
      }
    },
    {
      "cell_type": "code",
      "source": [
        "# Q1 Python Program to find sum of array.\n",
        "\n",
        "def sum_of_array(lst):\n",
        "  sum = 0\n",
        "  for i in lst:\n",
        "    sum+=i\n",
        "\n",
        "  return sum\n",
        "\n",
        "lst = [1,2,3,4,5,6,7,9]\n",
        "sum_of_array(lst)"
      ],
      "metadata": {
        "colab": {
          "base_uri": "https://localhost:8080/"
        },
        "id": "PX3cC1k2BP2x",
        "outputId": "2db31c0d-256e-4853-9712-c37253bd9a30"
      },
      "execution_count": null,
      "outputs": [
        {
          "output_type": "execute_result",
          "data": {
            "text/plain": [
              "37"
            ]
          },
          "metadata": {},
          "execution_count": 3
        }
      ]
    },
    {
      "cell_type": "code",
      "source": [
        "# Q2 Python Program to find largest element in an array\n",
        "\n",
        "lst = [1,20,3,5,10,6,70,-90,1000,300,0]\n",
        "\n",
        "def largest_element_in_array(lst):\n",
        "  x = 0\n",
        "  for i in lst:\n",
        "    if i > x:\n",
        "      x = i\n",
        "  return x\n",
        "lst = [1,20,3,5,10,6,70,-90,1000,300,0]\n",
        "\n",
        "largest_element_in_array(lst)"
      ],
      "metadata": {
        "colab": {
          "base_uri": "https://localhost:8080/"
        },
        "id": "SbI_327XCvum",
        "outputId": "6c1a6f98-8c97-44ec-fe6a-5013e66fbf07"
      },
      "execution_count": null,
      "outputs": [
        {
          "output_type": "execute_result",
          "data": {
            "text/plain": [
              "1000"
            ]
          },
          "metadata": {},
          "execution_count": 27
        }
      ]
    },
    {
      "cell_type": "code",
      "source": [
        "#3. Python Program for array rotation\n",
        "\n",
        "#Rotation only one element towards left\n",
        "lst = [11,20,3,5,10,6,70,-90,1000,300,0]\n",
        "\n",
        "temp = lst[0]\n",
        "for i in range(1, len(lst)):\n",
        "  lst[i-1] = lst[i]\n",
        "lst[len(lst) -1] = temp\n",
        "print(\"List after rotating : \", lst)"
      ],
      "metadata": {
        "colab": {
          "base_uri": "https://localhost:8080/"
        },
        "id": "5sPkLT3VIaoN",
        "outputId": "487760c4-fc7e-4915-db5b-21f269f53e58"
      },
      "execution_count": null,
      "outputs": [
        {
          "output_type": "stream",
          "name": "stdout",
          "text": [
            "List after rotating :  [20, 3, 5, 10, 6, 70, -90, 1000, 300, 0, 11]\n"
          ]
        }
      ]
    },
    {
      "cell_type": "code",
      "source": [
        "#4. Now rotation nth element from left\n",
        "lst = [10,2,8,3,4,0,13,4,15,44]\n",
        "print(\"Before rotation of List : \", lst)\n",
        "n = int(input(\"Enter the number of rotation : \"))\n",
        "\n",
        "for rotation in range(n):\n",
        "  temp = lst[0]\n",
        "  for i in range(1, len(lst)):\n",
        "    lst[i-1] = lst[i]\n",
        "  lst[len(lst)-1] = temp\n",
        "\n",
        "print(\"Arter rotation of List : \", lst)"
      ],
      "metadata": {
        "id": "X90P4EWzQDY5",
        "colab": {
          "base_uri": "https://localhost:8080/"
        },
        "outputId": "3c68bc61-3ab7-47c1-fa88-2aa5d7837d1c"
      },
      "execution_count": null,
      "outputs": [
        {
          "output_type": "stream",
          "name": "stdout",
          "text": [
            "Before rotation of List :  [10, 2, 8, 3, 4, 0, 13, 4, 15, 44]\n",
            "Enter the number of rotation : 2\n",
            "Arter rotation of List :  [8, 3, 4, 0, 13, 4, 15, 44, 10, 2]\n"
          ]
        }
      ]
    },
    {
      "cell_type": "code",
      "source": [
        "#5.rotation nth element from right\n",
        "\n",
        "lst = [1,2,3,4,5,6,7,8]\n",
        "n = int(input())\n",
        "\n",
        "for count in range(n):\n",
        "  temp = lst[len(lst)-1]\n",
        "  for i in range(len(lst)-2, -1,-1):\n",
        "    lst[i+1] = lst[i]\n",
        "  lst[0] = temp\n",
        "print(lst)"
      ],
      "metadata": {
        "colab": {
          "base_uri": "https://localhost:8080/"
        },
        "id": "AP2XVAIfs5bL",
        "outputId": "d2b8d66f-39ea-49de-8318-13ce245f4fb2"
      },
      "execution_count": null,
      "outputs": [
        {
          "output_type": "stream",
          "name": "stdout",
          "text": [
            "2\n",
            "[7, 8, 1, 2, 3, 4, 5, 6]\n"
          ]
        }
      ]
    },
    {
      "cell_type": "code",
      "source": [
        "def rotation_element_left(lst, n):\n",
        "\n",
        "  for count in range(n):\n",
        "    temp = lst[0]\n",
        "    for i in range(1, len(lst)):\n",
        "      lst[i-1] = lst[i]\n",
        "    lst[len(lst) -1] = temp\n",
        "  return lst\n",
        "\n",
        "n = int(input(\"Enter the nth number of rotation : \"))\n",
        "lst = [1,2,3,4,5,6,8]\n",
        "rotation_element_left(lst,n)\n"
      ],
      "metadata": {
        "id": "z6i22Oo7AM3o",
        "colab": {
          "base_uri": "https://localhost:8080/"
        },
        "outputId": "6d986d89-8661-49c2-fff4-2987347ff381"
      },
      "execution_count": null,
      "outputs": [
        {
          "name": "stdout",
          "output_type": "stream",
          "text": [
            "Enter the nth number of rotation : 2\n"
          ]
        },
        {
          "output_type": "execute_result",
          "data": {
            "text/plain": [
              "[3, 4, 5, 6, 8, 1, 2]"
            ]
          },
          "metadata": {},
          "execution_count": 3
        }
      ]
    },
    {
      "cell_type": "code",
      "source": [
        "#6. Python Program for Find reminder of array multiplication divided by n\n",
        "def array_multiplication_divided(lst,n):\n",
        "\n",
        "  sum = 1\n",
        "  for i in lst:\n",
        "    sum *= i\n",
        "  rem = sum % n\n",
        "  return rem\n",
        "\n",
        "n = int(input(\"Enter the number : \"))\n",
        "lst = [1,2,3,4,5,6,8,9]\n",
        "array_multiplication_divided(lst,n)\n"
      ],
      "metadata": {
        "colab": {
          "base_uri": "https://localhost:8080/"
        },
        "id": "Aklmt__mxcA2",
        "outputId": "28972799-86be-4273-d41e-15af8753df75"
      },
      "execution_count": null,
      "outputs": [
        {
          "name": "stdout",
          "output_type": "stream",
          "text": [
            "Enter the number : 23\n"
          ]
        },
        {
          "output_type": "execute_result",
          "data": {
            "text/plain": [
              "21"
            ]
          },
          "metadata": {},
          "execution_count": 13
        }
      ]
    },
    {
      "cell_type": "code",
      "source": [
        "#7 .Python Program to check if given array is Monotonic\n",
        "def is_monotonic(array):\n",
        "    increasing = decreasing = True\n",
        "\n",
        "    for i in range(1, len(array)):\n",
        "        if array[i] > array[i - 1]:\n",
        "            decreasing = False\n",
        "        elif array[i] < array[i - 1]:\n",
        "            increasing = False\n",
        "\n",
        "    return increasing or decreasing\n",
        "\n",
        "\n",
        "arr1 = [1, 2, 3, 4, 5]\n",
        "arr2 = [5, 4, 3, 2, 1]\n",
        "arr3 = [1, 2, 2, 3, 2]\n",
        "\n",
        "print(is_monotonic(arr1))\n",
        "print(is_monotonic(arr2))\n",
        "print(is_monotonic(arr3))\n"
      ],
      "metadata": {
        "id": "F0Px4Jkf0Yh3",
        "colab": {
          "base_uri": "https://localhost:8080/"
        },
        "outputId": "3e401c59-ea83-4c71-cd77-6c56435babf5"
      },
      "execution_count": null,
      "outputs": [
        {
          "output_type": "stream",
          "name": "stdout",
          "text": [
            "True\n",
            "True\n",
            "False\n"
          ]
        }
      ]
    },
    {
      "cell_type": "code",
      "source": [],
      "metadata": {
        "id": "LA5jjSna2c4K"
      },
      "execution_count": null,
      "outputs": []
    }
  ]
}