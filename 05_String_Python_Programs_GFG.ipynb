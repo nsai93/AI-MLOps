{
  "nbformat": 4,
  "nbformat_minor": 0,
  "metadata": {
    "colab": {
      "provenance": [],
      "authorship_tag": "ABX9TyPlfAb+a11q3w4ENv6RYxit",
      "include_colab_link": true
    },
    "kernelspec": {
      "name": "python3",
      "display_name": "Python 3"
    },
    "language_info": {
      "name": "python"
    }
  },
  "cells": [
    {
      "cell_type": "markdown",
      "metadata": {
        "id": "view-in-github",
        "colab_type": "text"
      },
      "source": [
        "<a href=\"https://colab.research.google.com/github/nsai93/AI-MLOps/blob/main/05_String_Python_Programs_GFG.ipynb\" target=\"_parent\"><img src=\"https://colab.research.google.com/assets/colab-badge.svg\" alt=\"Open In Colab\"/></a>"
      ]
    },
    {
      "cell_type": "markdown",
      "source": [
        "### String Python Programs Questions"
      ],
      "metadata": {
        "id": "_eVtO3WvO83I"
      }
    },
    {
      "cell_type": "code",
      "execution_count": null,
      "metadata": {
        "colab": {
          "base_uri": "https://localhost:8080/",
          "height": 53
        },
        "id": "HSmF55fdOtbf",
        "outputId": "4bd53de7-7df7-44e3-8f12-7cbf27359325"
      },
      "outputs": [
        {
          "name": "stdout",
          "output_type": "stream",
          "text": [
            "Enter the String : MADAM\n"
          ]
        },
        {
          "output_type": "execute_result",
          "data": {
            "text/plain": [
              "'String is Palindrome'"
            ],
            "application/vnd.google.colaboratory.intrinsic+json": {
              "type": "string"
            }
          },
          "metadata": {},
          "execution_count": 9
        }
      ],
      "source": [
        "#1. Python program to check if a string is palindrome or not\n",
        "\n",
        "def palindrome_chekcing(string):\n",
        "  rev_str = string[-1::-1]\n",
        "  if(string == rev_str):\n",
        "    return \"String is Palindrome\"\n",
        "  else:\n",
        "    return \"String is not Palindrome\"\n",
        "\n",
        "string = str(input(\"Enter the String : \"))\n",
        "palindrome_chekcing(string)"
      ]
    },
    {
      "cell_type": "code",
      "source": [
        "string = str(input(\"Enter the String : \"))\n",
        "palindrome_chekcing(string)"
      ],
      "metadata": {
        "colab": {
          "base_uri": "https://localhost:8080/",
          "height": 53
        },
        "id": "mpVCQx2xPswt",
        "outputId": "875a9f55-4495-49a2-fd4d-af7b176f64a1"
      },
      "execution_count": null,
      "outputs": [
        {
          "name": "stdout",
          "output_type": "stream",
          "text": [
            "Enter the String : ABDEIX\n"
          ]
        },
        {
          "output_type": "execute_result",
          "data": {
            "text/plain": [
              "'String is not Palindrome'"
            ],
            "application/vnd.google.colaboratory.intrinsic+json": {
              "type": "string"
            }
          },
          "metadata": {},
          "execution_count": 11
        }
      ]
    },
    {
      "cell_type": "code",
      "source": [
        "# Python program to check whether the string is Symmetrical or Palindrome\n",
        "\n",
        "def sympla(string):\n",
        "  if string == string[::-1]:\n",
        "    print(\"String is Palindrome\")\n",
        "  else:\n",
        "    print(\"String is not Palindrome\")\n",
        "\n",
        "  size = len(string)\n",
        "  if size % 2 == 0:\n",
        "    half = size//2\n",
        "    if string[0:half] == string[half:size]:\n",
        "      print(\"String is Symmetrical\")\n",
        "    else:\n",
        "      print(\"String is not Symmetrical\")\n",
        "\n",
        "string = \"maam\"\n",
        "sympla(string)"
      ],
      "metadata": {
        "colab": {
          "base_uri": "https://localhost:8080/"
        },
        "id": "_E9W6JQCP7ay",
        "outputId": "d43152dd-d022-4845-b5f5-bdbaa8303a7f"
      },
      "execution_count": null,
      "outputs": [
        {
          "output_type": "stream",
          "name": "stdout",
          "text": [
            "String is Palindrome\n",
            "String is not Symmetrical\n"
          ]
        }
      ]
    },
    {
      "cell_type": "code",
      "source": [
        "string = \"amaama\"\n",
        "sympla(string)"
      ],
      "metadata": {
        "colab": {
          "base_uri": "https://localhost:8080/"
        },
        "id": "E9-Sf3-Yf4rm",
        "outputId": "f0f1a28e-40e0-49c7-a7ca-701a0020f56b"
      },
      "execution_count": null,
      "outputs": [
        {
          "output_type": "stream",
          "name": "stdout",
          "text": [
            "String is Palindrome\n",
            "String is Symmetrical\n"
          ]
        }
      ]
    },
    {
      "cell_type": "code",
      "source": [
        "# 3. Reverse words in a given String in Python\n",
        "ab = \"abcdef\"\n",
        "print(ab[::-1])\n",
        "print(ab[-1::-1])"
      ],
      "metadata": {
        "colab": {
          "base_uri": "https://localhost:8080/"
        },
        "id": "qhm5gaSGg_Jd",
        "outputId": "bbc44642-23c4-4b53-b1f5-9585a1019236"
      },
      "execution_count": null,
      "outputs": [
        {
          "output_type": "stream",
          "name": "stdout",
          "text": [
            "fedcba\n",
            "fedcba\n"
          ]
        }
      ]
    },
    {
      "cell_type": "code",
      "source": [
        "# 4. Ways to remove i’th character from string in Python.\n",
        "\n",
        "def remove_ith_char(string):\n",
        "\n",
        "  for i in range(len(string)):\n",
        "    if i == num:\n",
        "      pass\n",
        "    else:\n",
        "      print(string[i], end=\"\")\n",
        "\n",
        "num = int(input(\"Enter the ith index : \"))\n",
        "string  = str(input(\"Enter the String :\"))\n",
        "remove_ith_char(string)"
      ],
      "metadata": {
        "colab": {
          "base_uri": "https://localhost:8080/"
        },
        "id": "F8HZycf8kU-i",
        "outputId": "4b1636c8-3e7e-4bb8-b943-cdc5c073a737"
      },
      "execution_count": null,
      "outputs": [
        {
          "output_type": "stream",
          "name": "stdout",
          "text": [
            "Enter the ith index : 2\n",
            "Enter the String :abcdefgh\n",
            "abdefgh"
          ]
        }
      ]
    },
    {
      "cell_type": "code",
      "source": [
        "#5. Python | Check if a Substring is Present in a Given String\n",
        "\n",
        "string = str(input(\"Enter the String :\"))\n",
        "sub_string = str(input(\"Enter the Sub-String : \"))\n",
        "\n",
        "if sub_string in string:\n",
        "  print(\"Sub-String Present\")\n",
        "else:\n",
        "  print(\"Sub-String is not present\")\n"
      ],
      "metadata": {
        "colab": {
          "base_uri": "https://localhost:8080/"
        },
        "id": "l46wyGRxmGPF",
        "outputId": "103d3f37-1489-47d4-d107-5780a7c22324"
      },
      "execution_count": null,
      "outputs": [
        {
          "output_type": "stream",
          "name": "stdout",
          "text": [
            "Enter the String :abcdef\n",
            "Enter the Sub-String : abc\n",
            "Sub-String Present\n"
          ]
        }
      ]
    },
    {
      "cell_type": "code",
      "source": [
        "# 6.Python – Words Frequency in String Shorthands\n",
        "\n",
        "def count_feq(sentence):\n",
        "  split_sen = sentence.split()\n",
        "  frequency = {}\n",
        "  for word in split_sen:\n",
        "    if word in frequency:\n",
        "      frequency[word] = frequency[word] + 1\n",
        "    else:\n",
        "      frequency[word] = 1\n",
        "  return frequency\n",
        "\n",
        "sentence = \"Python – Words Frequency in String Shorthands Words nis nis\"\n",
        "count_feq(sentence)"
      ],
      "metadata": {
        "colab": {
          "base_uri": "https://localhost:8080/"
        },
        "id": "pb1TvPfYy7WC",
        "outputId": "a803cbaa-afcb-464b-b10e-e5c5285bee5a"
      },
      "execution_count": null,
      "outputs": [
        {
          "output_type": "execute_result",
          "data": {
            "text/plain": [
              "{'Python': 1,\n",
              " '–': 1,\n",
              " 'Words': 2,\n",
              " 'Frequency': 1,\n",
              " 'in': 1,\n",
              " 'String': 1,\n",
              " 'Shorthands': 1,\n",
              " 'nis': 2}"
            ]
          },
          "metadata": {},
          "execution_count": 56
        }
      ]
    },
    {
      "cell_type": "code",
      "source": [
        "# 7. Python – Convert Snake case to Pascal case\n",
        "\n",
        "# 1st I will convert normal tring into Snake case String.\n",
        "\n",
        "string =\"my name is nishant\"\n",
        "Snake_case = \"\"\n",
        "for i in string:\n",
        "  if  i == \" \":\n",
        "    Snake_case += \"_\"\n",
        "  else:\n",
        "    Snake_case += i\n",
        "print(\"Snake_case Sting :\", Snake_case)\n",
        "\n",
        "#Now I will convert Snake case to Pascal case\n",
        "\n",
        "new_st = Snake_case.split(\"_\")\n",
        "ll = []\n",
        "for lst in new_st:\n",
        "  lst = lst.capitalize()\n",
        "  ll.append(lst)\n",
        "\n",
        "l1 = \"\".join(ll)\n",
        "print(\"Pascal_case String :\",l1)"
      ],
      "metadata": {
        "id": "DLIElOcC12Ar",
        "colab": {
          "base_uri": "https://localhost:8080/"
        },
        "outputId": "cfa67059-e2c2-4391-fc1b-e7c5a0f5e20c"
      },
      "execution_count": null,
      "outputs": [
        {
          "output_type": "stream",
          "name": "stdout",
          "text": [
            "Snake_case Sting : my_name_is_nishant\n",
            "Pascal_case String : MyNameIsNishant\n"
          ]
        }
      ]
    },
    {
      "cell_type": "code",
      "source": [
        "# 8. Find length of a string in python.\n",
        "\n",
        "string = \"aksmskmmsk\"\n",
        "print(len(string))\n",
        "\n"
      ],
      "metadata": {
        "colab": {
          "base_uri": "https://localhost:8080/"
        },
        "id": "2vkPrtQktEwm",
        "outputId": "3ffb5b61-2e4d-46ea-b291-0008ac4493a6"
      },
      "execution_count": null,
      "outputs": [
        {
          "output_type": "stream",
          "name": "stdout",
          "text": [
            "10\n"
          ]
        }
      ]
    },
    {
      "cell_type": "code",
      "source": [
        "# 9. Python program to print even length words in a string\n",
        "\n",
        "def even_len_string(string):\n",
        "  string1 = string.split()\n",
        "  even_word = []\n",
        "  for lst in string1:\n",
        "    if len(lst) % 2 == 0:\n",
        "      even_word.append(lst)\n",
        "  print(\"Even Number in Given String :\", \" \".join(even_word))\n",
        "string =\"my name is nishant\"\n",
        "even_len_string(string)"
      ],
      "metadata": {
        "colab": {
          "base_uri": "https://localhost:8080/"
        },
        "id": "DScCVNxez9Hh",
        "outputId": "9e0159dd-e686-4701-88bd-e6d744213e87"
      },
      "execution_count": null,
      "outputs": [
        {
          "output_type": "stream",
          "name": "stdout",
          "text": [
            "Even Number in Given String : my name is\n"
          ]
        }
      ]
    },
    {
      "cell_type": "code",
      "source": [
        "# 10. Python program to accept the strings which contains all vowels\n",
        "#method_1\n",
        "def check2(str1,str2):\n",
        "  str3 = \"\"\n",
        "  for i in set(str1):\n",
        "    if i in str2:\n",
        "      str3 += i\n",
        "  if len(str3) == len(str2):\n",
        "    return ('accepted')\n",
        "  else:\n",
        "      return (\"not accepted\")\n",
        "\n",
        "str1 = \"dsnsdjcjsdjjdscosdnuchscnsdcuihimasaei\"\n",
        "str2 = \"aeiou\"\n",
        "check2(str1,str2)"
      ],
      "metadata": {
        "colab": {
          "base_uri": "https://localhost:8080/",
          "height": 35
        },
        "id": "bdIhs1ES5vat",
        "outputId": "76c678ec-f5d1-4b08-923d-ac7a01af1ab2"
      },
      "execution_count": null,
      "outputs": [
        {
          "output_type": "execute_result",
          "data": {
            "text/plain": [
              "'accepted'"
            ],
            "application/vnd.google.colaboratory.intrinsic+json": {
              "type": "string"
            }
          },
          "metadata": {},
          "execution_count": 43
        }
      ]
    },
    {
      "cell_type": "code",
      "source": [
        "#Method 2\n",
        "def check(str1,str2):\n",
        "    if len(set(str1.lower()).intersection(str2)) >= 5:\n",
        "        return ('accepted')\n",
        "    else:\n",
        "        return (\"not accepted\")\n",
        "\n",
        "\n",
        "str1 = \"dsnsdjcjsdjjdscosdnuchscnsdcuihimasaei\"\n",
        "str2 = \"aeiou\"\n",
        "check(str1,str2)"
      ],
      "metadata": {
        "colab": {
          "base_uri": "https://localhost:8080/",
          "height": 35
        },
        "id": "hDv9r7gv-gsP",
        "outputId": "89ab60e7-623b-4018-8603-0cecc20abd46"
      },
      "execution_count": null,
      "outputs": [
        {
          "output_type": "execute_result",
          "data": {
            "text/plain": [
              "'accepted'"
            ],
            "application/vnd.google.colaboratory.intrinsic+json": {
              "type": "string"
            }
          },
          "metadata": {},
          "execution_count": 44
        }
      ]
    },
    {
      "cell_type": "code",
      "source": [
        "# 11. Python | Count the Number of matching characters in a pair of string\n",
        "\n",
        "\n",
        "def count_matching_string(string1,string2):\n",
        "  matching_string = \"\"\n",
        "  for i in str1:\n",
        "    if i in str2:\n",
        "      matching_string += i\n",
        "  return set(matching_string),  len(set(matching_string))\n",
        "\n",
        "\n",
        "str1 = 'aabcddekll12@'\n",
        "str2 = 'bb22ll@55k'\n",
        "\n",
        "print(\"Matching String and count : \",count_matching_string(str1,str2) )"
      ],
      "metadata": {
        "colab": {
          "base_uri": "https://localhost:8080/"
        },
        "id": "FYzxSoGy1HDs",
        "outputId": "66039217-ae0d-4fc3-8715-adaad03f4474"
      },
      "execution_count": null,
      "outputs": [
        {
          "output_type": "stream",
          "name": "stdout",
          "text": [
            "Matching String and count :  ({'k', 'b', '@', '2', 'l'}, 5)\n"
          ]
        }
      ]
    },
    {
      "cell_type": "code",
      "source": [
        "# 12. Remove all duplicates from a given string in Python\n",
        "def remove_duplicate(str):\n",
        "    s=set(str)\n",
        "    s=\"\".join(s)\n",
        "    return s\n",
        "str=\"sdjsddsfvvaqsmkls\"\n",
        "remove_duplicate(str)"
      ],
      "metadata": {
        "id": "Pp_oD_L-2pwa",
        "colab": {
          "base_uri": "https://localhost:8080/",
          "height": 35
        },
        "outputId": "2b0cf44a-f35b-46ef-93af-af1d21236c15"
      },
      "execution_count": null,
      "outputs": [
        {
          "output_type": "execute_result",
          "data": {
            "text/plain": [
              "'jkfqlvmasd'"
            ],
            "application/vnd.google.colaboratory.intrinsic+json": {
              "type": "string"
            }
          },
          "metadata": {},
          "execution_count": 3
        }
      ]
    },
    {
      "cell_type": "code",
      "source": [
        "# 13. Python – Least Frequent Character in String\n",
        "def least_feq(string):\n",
        "  dic_str = {}\n",
        "  for i in string:\n",
        "    if i in dic_str:\n",
        "      dic_str[i] = dic_str[i] + 1\n",
        "    else:\n",
        "      dic_str[i] = 1\n",
        "\n",
        "  new_str = \"\"\n",
        "  for j in dic_str:\n",
        "    if dic_str[j] == min(dic_str.values()):\n",
        "      new_str = new_str + \"\".join(j)\n",
        "  return min(new_str)\n",
        "\n",
        "string = \"scndfjnvjfkmvs\"\n",
        "print(\"Least Frequent Character in String :\", least_feq(string))"
      ],
      "metadata": {
        "colab": {
          "base_uri": "https://localhost:8080/"
        },
        "id": "CVNWocCoEQzP",
        "outputId": "0bdffb4b-960a-4ee1-c9bb-1dd95dacbbb9"
      },
      "execution_count": null,
      "outputs": [
        {
          "output_type": "stream",
          "name": "stdout",
          "text": [
            "Least Frequent Character in String : c\n"
          ]
        }
      ]
    },
    {
      "cell_type": "code",
      "source": [
        "# 14. Python | Maximum frequency character in String\n",
        "def max_feq(string):\n",
        "  dic_str = {}\n",
        "  for i in string:\n",
        "    if i in dic_str:\n",
        "      dic_str[i] = dic_str[i] + 1\n",
        "    else:\n",
        "      dic_str[i] = 1\n",
        "  print(dic_str)\n",
        "  new_str = \"\"\n",
        "  for j in dic_str:\n",
        "    if dic_str[j] == max(dic_str.values()):\n",
        "      new_str = new_str + \"\".join(j)\n",
        "  return max(new_str)\n",
        "\n",
        "string = \"scndfjnvjfkmvs\"\n",
        "print(\"Maximum Frequent Character in String :\", max_feq(string))"
      ],
      "metadata": {
        "colab": {
          "base_uri": "https://localhost:8080/"
        },
        "id": "nm54gjWwHV9b",
        "outputId": "d4d8d59f-e932-4106-f392-af8b8cdd8e25"
      },
      "execution_count": null,
      "outputs": [
        {
          "output_type": "stream",
          "name": "stdout",
          "text": [
            "{'s': 2, 'c': 1, 'n': 2, 'd': 1, 'f': 2, 'j': 2, 'v': 2, 'k': 1, 'm': 1}\n",
            "Maximum Frequent Character in String : v\n"
          ]
        }
      ]
    },
    {
      "cell_type": "code",
      "source": [
        "#15. Python | Program to check if a string contains any special character\n",
        "\n",
        "def checking_special_char(string, special_char):\n",
        "  ab = 0\n",
        "  for i in special_char:\n",
        "    if i in given_string:\n",
        "      ab += 1\n",
        "  if ab > 0:\n",
        "    return \"String have Special char\"\n",
        "  else:\n",
        "    return \"String have No special char\"\n",
        "special_char = '[@_!#$%^&*()<>?/\\|}{~:]'\n",
        "given_string = str(input())\n",
        "checking_special_char(given_string , special_char)"
      ],
      "metadata": {
        "colab": {
          "base_uri": "https://localhost:8080/",
          "height": 53
        },
        "id": "KzGYsvTBIO-F",
        "outputId": "9e6b8bb2-7b60-4b0f-e496-fedd44d8ef5f"
      },
      "execution_count": null,
      "outputs": [
        {
          "name": "stdout",
          "output_type": "stream",
          "text": [
            "fdvnjef\n"
          ]
        },
        {
          "output_type": "execute_result",
          "data": {
            "text/plain": [
              "'String have No special char'"
            ],
            "application/vnd.google.colaboratory.intrinsic+json": {
              "type": "string"
            }
          },
          "metadata": {},
          "execution_count": 22
        }
      ]
    },
    {
      "cell_type": "code",
      "source": [
        "special_char = '[@_!#$%^&*()<>?/\\|}{~:]'\n",
        "given_string = str(input())\n",
        "checking_special_char(given_string , special_char)"
      ],
      "metadata": {
        "colab": {
          "base_uri": "https://localhost:8080/",
          "height": 53
        },
        "id": "zNLExWF2J795",
        "outputId": "9a038e4a-18be-40d9-f8b9-55eadaacb310"
      },
      "execution_count": null,
      "outputs": [
        {
          "name": "stdout",
          "output_type": "stream",
          "text": [
            "fnvjn@$%fnv\n"
          ]
        },
        {
          "output_type": "execute_result",
          "data": {
            "text/plain": [
              "'String have Special char'"
            ],
            "application/vnd.google.colaboratory.intrinsic+json": {
              "type": "string"
            }
          },
          "metadata": {},
          "execution_count": 23
        }
      ]
    },
    {
      "cell_type": "code",
      "source": [
        "# 16. Generating random strings until a given string is generated\n",
        "\n",
        "# Python program to generate and match\n",
        "# the string from all random strings\n",
        "# of same length\n",
        "\n",
        "# Importing string, random\n",
        "# and time modules\n",
        "import string\n",
        "import random\n",
        "import time\n",
        "\n",
        "# all possible characters including\n",
        "# lowercase, uppercase and special symbols\n",
        "possibleCharacters = string.ascii_lowercase + string.digits + string.ascii_uppercase + ' ., !?;:'\n",
        "\n",
        "# string to be generated\n",
        "t = \"s\"\n",
        "\n",
        "# To take input from user\n",
        "# t = input(str(\"Enter your target text: \"))\n",
        "\n",
        "attemptThis = ''.join(random.choice(possibleCharacters)\n",
        "\t\t\t\t\t\t\t\tfor i in range(len(t)))\n",
        "attemptNext = ''\n",
        "\n",
        "completed = False\n",
        "iteration = 0\n",
        "\n",
        "# Iterate while completed is false\n",
        "while completed == False:\n",
        "\tprint(attemptThis)\n",
        "\n",
        "\tattemptNext = ''\n",
        "\tcompleted = True\n",
        "\n",
        "\t# Fix the index if matches with\n",
        "\t# the strings to be generated\n",
        "\tfor i in range(len(t)):\n",
        "\t\tif attemptThis[i] != t[i]:\n",
        "\t\t\tcompleted = False\n",
        "\t\t\tattemptNext += random.choice(possibleCharacters)\n",
        "\t\telse:\n",
        "\t\t\tattemptNext += t[i]\n",
        "\n",
        "\t# increment the iteration\n",
        "\titeration += 1\n",
        "\tattemptThis = attemptNext\n",
        "\ttime.sleep(0.1)\n",
        "\n",
        "# Driver Code\n",
        "print(\"Target matched after \" +\n",
        "\tstr(iteration) + \" iterations\")\n"
      ],
      "metadata": {
        "colab": {
          "base_uri": "https://localhost:8080/"
        },
        "id": "MLYAr9dHLNKZ",
        "outputId": "40e4e199-76e8-41b4-c06b-614502848554"
      },
      "execution_count": null,
      "outputs": [
        {
          "output_type": "stream",
          "name": "stdout",
          "text": [
            "Z\n",
            "5\n",
            "H\n",
            "t\n",
            "A\n",
            "9\n",
            "I\n",
            "2\n",
            "3\n",
            "O\n",
            "R\n",
            "N\n",
            "Z\n",
            "O\n",
            "l\n",
            ";\n",
            "F\n",
            "!\n",
            "s\n",
            "Target matched after 19 iterations\n"
          ]
        }
      ]
    },
    {
      "cell_type": "code",
      "source": [
        "#17. Find words which are greater than given length k\n",
        "\n",
        "sentence = \"Find words which are greater than given length k\"\n",
        "given_len = int(input(\"Enter the length of words : \"))\n",
        "\n",
        "new_sen = sentence.split(\" \")\n",
        "for i in new_sen:\n",
        "  if len(i) > given_len:\n",
        "    print(i , end=\" \")\n"
      ],
      "metadata": {
        "colab": {
          "base_uri": "https://localhost:8080/"
        },
        "id": "BZcYDFbeMGfw",
        "outputId": "197119d9-eaf0-4315-fa2c-d36a7f2ea2a0"
      },
      "execution_count": null,
      "outputs": [
        {
          "output_type": "stream",
          "name": "stdout",
          "text": [
            "Enter the length of words : 4\n",
            "words which greater given length "
          ]
        }
      ]
    },
    {
      "cell_type": "code",
      "source": [
        "#18. Python program for removing i-th character from a string\n",
        "def remove_ith_char(string):\n",
        "\n",
        "  for i in range(len(string)):\n",
        "    if i == num:\n",
        "      pass\n",
        "    else:\n",
        "      print(string[i], end=\"\")\n",
        "\n",
        "num = int(input(\"Enter the ith index : \"))\n",
        "string  = str(input(\"Enter the String :\"))\n",
        "remove_ith_char(string)\n"
      ],
      "metadata": {
        "colab": {
          "base_uri": "https://localhost:8080/"
        },
        "id": "lqlouSeUMw1k",
        "outputId": "6eb4ad05-eba5-44e3-c70c-6806f800da55"
      },
      "execution_count": null,
      "outputs": [
        {
          "output_type": "stream",
          "name": "stdout",
          "text": [
            "Enter the ith index : 3\n",
            "Enter the String :ddwnjsxsjnwsnwkn\n",
            "ddwjsxsjnwsnwkn"
          ]
        }
      ]
    },
    {
      "cell_type": "code",
      "source": [
        "#19. Python program to split and join a string\n",
        "\n",
        "st = \"Python program to split and join a string\"\n",
        "sp = st.split(\" \")\n",
        "print(\"Split String : \",sp)\n",
        "ab = str(input(\"Enter the delimiter : \"))\n",
        "print(\"String after spliting and using delimiter : \", ab.join(sp))\n"
      ],
      "metadata": {
        "colab": {
          "base_uri": "https://localhost:8080/"
        },
        "id": "RVEqN6xwNzEG",
        "outputId": "894b956f-13a2-4147-e28f-0097b35ae299"
      },
      "execution_count": null,
      "outputs": [
        {
          "output_type": "stream",
          "name": "stdout",
          "text": [
            "Split String :  ['Python', 'program', 'to', 'split', 'and', 'join', 'a', 'string']\n",
            "Enter the delimiter : &\n",
            "String after spliting and using delimiter :  Python&program&to&split&and&join&a&string\n"
          ]
        }
      ]
    },
    {
      "cell_type": "code",
      "source": [
        "#20.  Python | Check if a given string is binary string or not\n",
        "\n",
        "def bin(string):\n",
        "  for i in string:\n",
        "    if i != '0' and i != '1':\n",
        "      return False\n",
        "  return True\n",
        "st = str(input(\"Enter the given Binary Strinf : \"))\n",
        "print(\"Outcome of the string : \", bin(st))"
      ],
      "metadata": {
        "colab": {
          "base_uri": "https://localhost:8080/"
        },
        "id": "pcdZYAkGORH2",
        "outputId": "e275a8da-0feb-43d0-8a6d-1cfe5762bab2"
      },
      "execution_count": null,
      "outputs": [
        {
          "output_type": "stream",
          "name": "stdout",
          "text": [
            "Enter the given Binary Strinf : 1010101\n",
            "Outcome of the string :  True\n"
          ]
        }
      ]
    },
    {
      "cell_type": "code",
      "source": [
        "st = str(input(\"Enter the given Binary Strinf : \"))\n",
        "print(\"Outcome of the string : \", bin(st))"
      ],
      "metadata": {
        "colab": {
          "base_uri": "https://localhost:8080/"
        },
        "id": "YIrwF9jhUAT6",
        "outputId": "61b0b7a8-c83b-44c1-ecf6-94ada116e03c"
      },
      "execution_count": null,
      "outputs": [
        {
          "output_type": "stream",
          "name": "stdout",
          "text": [
            "Enter the given Binary Strinf : 1010102\n",
            "Outcome of the string :  False\n"
          ]
        }
      ]
    },
    {
      "cell_type": "code",
      "source": [
        "# 21 Python program to find uncommon words from two Strings\n",
        "\n",
        "def uncommon_word_string(string1, string2):\n",
        "  uncommon_string = []\n",
        "  for i in string1.split():\n",
        "    if i not in string2.split():\n",
        "      uncommon_string.append(i)\n",
        "  for j in string2.split():\n",
        "    if j not in string1.split():\n",
        "      uncommon_string.append(j)\n",
        "  return uncommon_string\n",
        "\n",
        "string1 = \"my name is nishant i am working as DS\"\n",
        "string2 = \"my name is abc i am not working\"\n",
        "\n",
        "print(\"uncommon words between both string :\", uncommon_word_string(string1, string2))"
      ],
      "metadata": {
        "id": "D-XoN7HeVieO",
        "colab": {
          "base_uri": "https://localhost:8080/"
        },
        "outputId": "d17e5b4e-ca8e-4881-afa7-8bf773ebd572"
      },
      "execution_count": 16,
      "outputs": [
        {
          "output_type": "stream",
          "name": "stdout",
          "text": [
            "uncommon words between both string : ['nishant', 'as', 'DS', 'abc', 'not']\n"
          ]
        }
      ]
    },
    {
      "cell_type": "code",
      "source": [
        "# 22 Python – Replace duplicate Occurrence in String\n",
        "\n",
        "str1 = \"my name is nishant i am working as DS my name is \"\n",
        "\n",
        " \"Gfg is best . Gfg also has Classes now. Classes help understand better\"\n",
        " \"Gfg is best . It also has Classes now. They help understand better\""
      ],
      "metadata": {
        "id": "QiSgJveOFfNH"
      },
      "execution_count": null,
      "outputs": []
    },
    {
      "cell_type": "code",
      "source": [
        "string1 =  \"Gfg is best . Gfg also Classes now. Classes help understand better\"\n",
        "\n",
        "str1 = string1.split()\n",
        "str2 = list(set(str1))\n",
        "\n",
        "count = {}\n",
        "for i in str1:\n",
        "  if i in count:\n",
        "    count[i] = count[i] +1\n",
        "  else:\n",
        "    count[i] =1\n",
        "\n",
        "for j in count:\n",
        "  if count[j] > 1:\n",
        "\n",
        "\n",
        "\n"
      ],
      "metadata": {
        "colab": {
          "base_uri": "https://localhost:8080/"
        },
        "id": "Bantx4prMirr",
        "outputId": "23cc71aa-4c10-4a02-8217-7ea5caaeefe1"
      },
      "execution_count": 21,
      "outputs": [
        {
          "output_type": "stream",
          "name": "stdout",
          "text": [
            "{'Gfg': 2, 'is': 1, 'best': 1, '.': 1, 'also': 1, 'Classes': 2, 'now.': 1, 'help': 1, 'understand': 1, 'better': 1}\n"
          ]
        }
      ]
    },
    {
      "cell_type": "code",
      "source": [
        "# 23. Python – Replace multiple words with K\n",
        "\n",
        "def replace_multiple_words(string, words,replace_word):\n",
        "\n",
        "  lst_string = string.split()\n",
        "  for i in range(len(lst_string)):\n",
        "    if lst_string[i] in  words:\n",
        "      lst_string[i] = replace_word\n",
        "  return \" \".join(lst_string)\n",
        "\n",
        "\n",
        "string1 =  \"Gfg is best . Gfg also Classes now Classes help understand better\"\n",
        "word_for_repalce = ['is','now', 'help']\n",
        "replc_word = \"aaa\"\n",
        "\n",
        "print(\"Replace string with multiple string : \",replace_multiple_words(string1,word_for_repalce,replc_word))\n"
      ],
      "metadata": {
        "colab": {
          "base_uri": "https://localhost:8080/"
        },
        "id": "OgRnKnmWOckZ",
        "outputId": "edc87ed6-1d00-4c91-be82-45ffcd6a37a9"
      },
      "execution_count": 36,
      "outputs": [
        {
          "output_type": "stream",
          "name": "stdout",
          "text": [
            "Replace string with multiple string :  Gfg aaa best . Gfg also Classes aaa Classes aaa understand better\n"
          ]
        }
      ]
    },
    {
      "cell_type": "code",
      "source": [
        "# 24. Python | Permutation of a given string using inbuilt function\n",
        "\n",
        "def generate_permutations(string):\n",
        "\tif len(string) == 1:\n",
        "\t\treturn [string]\n",
        "\n",
        "\tpermutations = []\n",
        "\tfor i in range(len(string)):\n",
        "\t\tfixed_char = string[i]\n",
        "\t\tremaining_chars = string[:i] + string[i+1:]\n",
        "\n",
        "\t\tfor perm in generate_permutations(remaining_chars):\n",
        "\t\t\tpermutations.append(fixed_char + perm)\n",
        "\n",
        "\treturn permutations\n",
        "\n",
        "string ='abc'\n",
        "\n",
        "permutations_list = generate_permutations(string)\n",
        "print(permutations_list)\n",
        "\n",
        "\n",
        "\n"
      ],
      "metadata": {
        "colab": {
          "base_uri": "https://localhost:8080/"
        },
        "id": "bgNmpG_sWdVV",
        "outputId": "74555837-0008-4130-eb01-9f74181ed45d"
      },
      "execution_count": 55,
      "outputs": [
        {
          "output_type": "stream",
          "name": "stdout",
          "text": [
            "['abc', 'acb', 'bac', 'bca', 'cab', 'cba']\n"
          ]
        }
      ]
    },
    {
      "cell_type": "code",
      "source": [
        "# 25. Python | Check for URL in a String\n",
        "def check_url(string):\n",
        "  split_string = string.split()\n",
        "  result = []\n",
        "  for i in range(len(split_string)):\n",
        "    if ('https' or 'http') in split_string[i]:\n",
        "      result.append(split_string[i])\n",
        "  return result\n",
        "\n",
        "string = 'My Profile: https://auth.geeksforgeeks.org/user/Chinmoy%20Lenka/articles  in the portal of https://www.geeksforgeeks.org/'\n",
        "check_url(string)"
      ],
      "metadata": {
        "colab": {
          "base_uri": "https://localhost:8080/"
        },
        "id": "AVwGuiHubM-_",
        "outputId": "3fff6727-9e18-459c-f5c8-13feb613130e"
      },
      "execution_count": 22,
      "outputs": [
        {
          "output_type": "execute_result",
          "data": {
            "text/plain": [
              "['https://auth.geeksforgeeks.org/user/Chinmoy%20Lenka/articles',\n",
              " 'https://www.geeksforgeeks.org/']"
            ]
          },
          "metadata": {},
          "execution_count": 22
        }
      ]
    },
    {
      "cell_type": "code",
      "source": [
        "def check_url2(string):\n",
        "  split_string = string.split()\n",
        "  result = []\n",
        "  for i in split_string:\n",
        "    if i.startswith('https:') or i.startswith('http'):\n",
        "      result.append(i)\n",
        "  return result\n",
        "\n",
        "string = 'My Profile: https://auth.geeksforgeeks.org/user/Chinmoy%20Lenka/articles  in the portal of https://www.geeksforgeeks.org/'\n",
        "check_url2(string)\n"
      ],
      "metadata": {
        "colab": {
          "base_uri": "https://localhost:8080/"
        },
        "id": "PpgffHWSb4GZ",
        "outputId": "7c9d26a1-4815-424a-c879-98b4f3384c0a"
      },
      "execution_count": 23,
      "outputs": [
        {
          "output_type": "execute_result",
          "data": {
            "text/plain": [
              "['https://auth.geeksforgeeks.org/user/Chinmoy%20Lenka/articles',\n",
              " 'https://www.geeksforgeeks.org/']"
            ]
          },
          "metadata": {},
          "execution_count": 23
        }
      ]
    },
    {
      "cell_type": "code",
      "source": [
        "# 26. Execute a String of Code in Python\n",
        "\n",
        "a = \"\"\" a = 5\n",
        " b = 6\n",
        " ab = a + b\n",
        " print(ab)\"\"\"\n",
        "\n",
        "print(eval(a))"
      ],
      "metadata": {
        "colab": {
          "base_uri": "https://localhost:8080/",
          "height": 245
        },
        "id": "-Iab1pO3R6hh",
        "outputId": "d9040c32-1df4-48f8-ef73-a314054f96ab"
      },
      "execution_count": 35,
      "outputs": [
        {
          "output_type": "error",
          "ename": "SyntaxError",
          "evalue": "invalid syntax (<string>, line 1)",
          "traceback": [
            "Traceback \u001b[0;36m(most recent call last)\u001b[0m:\n",
            "  File \u001b[1;32m\"/usr/local/lib/python3.10/dist-packages/IPython/core/interactiveshell.py\"\u001b[0m, line \u001b[1;32m3553\u001b[0m, in \u001b[1;35mrun_code\u001b[0m\n    exec(code_obj, self.user_global_ns, self.user_ns)\n",
            "\u001b[0;36m  File \u001b[0;32m\"<ipython-input-35-cbeea2981095>\"\u001b[0;36m, line \u001b[0;32m8\u001b[0;36m, in \u001b[0;35m<cell line: 8>\u001b[0;36m\u001b[0m\n\u001b[0;31m    print(eval(a))\u001b[0m\n",
            "\u001b[0;36m  File \u001b[0;32m\"<string>\"\u001b[0;36m, line \u001b[0;32m1\u001b[0m\n\u001b[0;31m    a = 5\u001b[0m\n\u001b[0m      ^\u001b[0m\n\u001b[0;31mSyntaxError\u001b[0m\u001b[0;31m:\u001b[0m invalid syntax\n"
          ]
        }
      ]
    },
    {
      "cell_type": "code",
      "source": [
        "#27. String slicing in Python to rotate a string\n",
        "\n",
        "def slicing_string(string, pos):\n",
        "  right_rotation = string[-pos:] + string[:-pos]\n",
        "  left_rotation = string[pos:] + string[:pos]\n",
        "  return right_rotation, left_rotation\n",
        "\n",
        "string = \"abcdefghij\"\n",
        "pos = int(input())\n",
        "slicing_string(string, pos)"
      ],
      "metadata": {
        "colab": {
          "base_uri": "https://localhost:8080/"
        },
        "id": "hbQqV0DMXHrZ",
        "outputId": "5098dcc8-0fa9-4508-8c15-8050e80f5ab3"
      },
      "execution_count": 45,
      "outputs": [
        {
          "name": "stdout",
          "output_type": "stream",
          "text": [
            "2\n"
          ]
        },
        {
          "output_type": "execute_result",
          "data": {
            "text/plain": [
              "('ijabcdefgh', 'cdefghijab')"
            ]
          },
          "metadata": {},
          "execution_count": 45
        }
      ]
    },
    {
      "cell_type": "code",
      "source": [
        "# 28. String slicing in Python to check if a string can become empty by recursive deletion\n",
        "\n",
        "def check_empty(string, sub_string):\n",
        "  while(len(string) != 0):\n",
        "    idx = string.index(sub_string)\n",
        "    if(idx ==1):\n",
        "      return 'false'\n",
        "    string = string[0:idx] + string[idx + len(sub_string) :]\n",
        "    print(string)\n",
        "    return 'true'\n",
        "\n",
        "string = input(\"Enter the string : \")\n",
        "sub_string = input(\"Enter the sub_string : \")\n",
        "check_empty(string, sub_string)"
      ],
      "metadata": {
        "colab": {
          "base_uri": "https://localhost:8080/",
          "height": 87
        },
        "id": "pQmeotrCeBsa",
        "outputId": "be651cac-1b43-4bf0-e4ac-c1a3b6a7c693"
      },
      "execution_count": 1,
      "outputs": [
        {
          "output_type": "stream",
          "name": "stdout",
          "text": [
            "Enter the string : GEEGEEKSKS\n",
            "Enter the sub_string : GEEK\n",
            "GEESKS\n"
          ]
        },
        {
          "output_type": "execute_result",
          "data": {
            "text/plain": [
              "'true'"
            ],
            "application/vnd.google.colaboratory.intrinsic+json": {
              "type": "string"
            }
          },
          "metadata": {},
          "execution_count": 1
        }
      ]
    },
    {
      "cell_type": "code",
      "source": [
        "#29. Python Counter| Find all duplicate characters in string\n",
        "\n",
        "def duplicate_char(string):\n",
        "  count = {}\n",
        "  duplicate = []\n",
        "  for char in string:\n",
        "    if char in count:\n",
        "      count[char] += 1\n",
        "    else:\n",
        "      count[char] = 1\n",
        "  for word, value in count.items():\n",
        "    if value > 1:\n",
        "      duplicate.append(word)\n",
        "  return (\"\".join(duplicate))\n",
        "\n",
        "ab = \"sjdbjsjdhajksnn\"\n",
        "print(\"Duplicate Char in given string : \", duplicate_char(ab))\n",
        ""
      ],
      "metadata": {
        "colab": {
          "base_uri": "https://localhost:8080/"
        },
        "id": "uYoOtMKrmc74",
        "outputId": "760eb9cd-32e0-48ac-aba6-f4a2cf3680b8"
      },
      "execution_count": 7,
      "outputs": [
        {
          "output_type": "stream",
          "name": "stdout",
          "text": [
            "Duplicate Char in given string :  sjdn\n"
          ]
        }
      ]
    },
    {
      "cell_type": "code",
      "source": [
        "# 30. Python – Replace all occurrences of a substring in a string\n",
        "\n",
        "ab = \"nishant\"\n",
        "b = \"n\"\n",
        "lst = []\n",
        "a = ab.split()\n",
        "print(a)\n",
        "for i in a:\n",
        "  if i == b:\n",
        "    i.repalce(\"so\")\n",
        "    lst.append(i)\n",
        "print(lst)\n",
        "\n",
        "\n"
      ],
      "metadata": {
        "colab": {
          "base_uri": "https://localhost:8080/"
        },
        "id": "JKc0cjscpBvQ",
        "outputId": "393c341e-26e2-4cc6-cbba-16e09b5e19d9"
      },
      "execution_count": 15,
      "outputs": [
        {
          "output_type": "stream",
          "name": "stdout",
          "text": [
            "['nishant']\n",
            "[]\n"
          ]
        }
      ]
    },
    {
      "cell_type": "code",
      "source": [
        "ab = \"dsjcjdjcdj\"\n",
        "print(ab.split())"
      ],
      "metadata": {
        "colab": {
          "base_uri": "https://localhost:8080/"
        },
        "id": "e8czjohewYxJ",
        "outputId": "6bd2c681-fb0f-4c53-ac80-503bda5cc433"
      },
      "execution_count": 14,
      "outputs": [
        {
          "output_type": "stream",
          "name": "stdout",
          "text": [
            "['dsjcjdjcdj']\n"
          ]
        }
      ]
    },
    {
      "cell_type": "code",
      "source": [
        "# 30.  Python – Replace all occurrences of a substring in a string\n",
        "\n",
        "def replace_sub(string, old_str, new_str):\n",
        "  new_string = string.replace(old_str, new_str)\n",
        "  return new_string\n",
        "\n",
        "string = \"nishantni\"\n",
        "old_str = \"ni\"\n",
        "new_str = \"**\"\n",
        "print(replace_sub(string, old_str, new_str))\n"
      ],
      "metadata": {
        "colab": {
          "base_uri": "https://localhost:8080/"
        },
        "id": "HBWMg9y7wb0n",
        "outputId": "d06474ea-219a-4ba9-82a3-70647b1b54cf"
      },
      "execution_count": 22,
      "outputs": [
        {
          "output_type": "stream",
          "name": "stdout",
          "text": [
            "**shant**\n"
          ]
        }
      ]
    },
    {
      "cell_type": "code",
      "source": [
        "\n",
        "def replace_substring_occurrences(string, old_substring, new_substring):\n",
        "  \"\"\"\n",
        "  Replaces all occurrences of a substring in a string with a new substring, regardless of the number of occurrences.\n",
        "\n",
        "  Args:\n",
        "    string: The string to modify.\n",
        "    old_substring: The substring to replace.\n",
        "    new_substring: The new substring to insert.\n",
        "\n",
        "  Returns:\n",
        "    The modified string with all occurrences of the old substring replaced.\n",
        "  \"\"\"\n",
        "\n",
        "  index = 0\n",
        "  while index < len(string):\n",
        "    if string[index:index + len(old_substring)] == old_substring:\n",
        "      string = string[:index] + new_substring + string[index + len(old_substring):]\n",
        "      index += len(new_substring)\n",
        "    else:\n",
        "      index += 1\n",
        "\n",
        "  return string\n",
        "\n",
        "# Example usage:\n",
        "string = \"nishantishjkndwdish\"\n",
        "old_substring = \"ish\"\n",
        "new_substring = \"&&\"\n",
        "\n",
        "replaced_string = replace_substring_occurrences(string, old_substring, new_substring)\n",
        "\n",
        "print(replaced_string)\n"
      ],
      "metadata": {
        "colab": {
          "base_uri": "https://localhost:8080/"
        },
        "id": "N-o1uOW9xrug",
        "outputId": "02644204-635c-4aff-d9e8-221818e235eb"
      },
      "execution_count": 19,
      "outputs": [
        {
          "output_type": "stream",
          "name": "stdout",
          "text": [
            "n&&ant&&jkndwd&&\n"
          ]
        }
      ]
    },
    {
      "cell_type": "code",
      "source": [],
      "metadata": {
        "id": "-ub0fGowyGSa"
      },
      "execution_count": null,
      "outputs": []
    }
  ]
}