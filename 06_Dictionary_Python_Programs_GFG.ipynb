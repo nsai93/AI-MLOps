{
  "nbformat": 4,
  "nbformat_minor": 0,
  "metadata": {
    "colab": {
      "provenance": [],
      "authorship_tag": "ABX9TyOTNO76lC5DLhKPK4ujbKpZ",
      "include_colab_link": true
    },
    "kernelspec": {
      "name": "python3",
      "display_name": "Python 3"
    },
    "language_info": {
      "name": "python"
    }
  },
  "cells": [
    {
      "cell_type": "markdown",
      "metadata": {
        "id": "view-in-github",
        "colab_type": "text"
      },
      "source": [
        "<a href=\"https://colab.research.google.com/github/nsai93/AI-MLOps/blob/main/06_Dictionary_Python_Programs_GFG.ipynb\" target=\"_parent\"><img src=\"https://colab.research.google.com/assets/colab-badge.svg\" alt=\"Open In Colab\"/></a>"
      ]
    },
    {
      "cell_type": "markdown",
      "source": [
        "### Dictionary Python Programs Questions"
      ],
      "metadata": {
        "id": "ym-YG0g90qrO"
      }
    },
    {
      "cell_type": "code",
      "source": [
        "# 1. Python – Extract Unique values dictionary values.\n",
        "\n",
        "def extract_unique_values(dct):\n",
        "  unique_values = []\n",
        "  for value in dct.values():\n",
        "    for i in value:\n",
        "      if i not in unique_values:\n",
        "        unique_values.append(i)\n",
        "      else:\n",
        "        pass\n",
        "  return unique_values\n",
        "\n",
        "dt = {'abc': [5, 6, 7, 8], 'def': [10, 11, 7, 5]}\n",
        "\n",
        "print(\"Unique Values in Dictionary :\", extract_unique_values(dt))\n",
        "\n",
        "\n"
      ],
      "metadata": {
        "colab": {
          "base_uri": "https://localhost:8080/"
        },
        "id": "xzsKdvAV3GZJ",
        "outputId": "f01fc629-1b71-4a80-e129-606b7b3bef3c"
      },
      "execution_count": 8,
      "outputs": [
        {
          "output_type": "stream",
          "name": "stdout",
          "text": [
            "Unique Values in Dictionary : [5, 6, 7, 8, 10, 11]\n"
          ]
        }
      ]
    },
    {
      "cell_type": "code",
      "source": [
        "def unique_val_dict(d):\n",
        "  l1 = list(d.values())\n",
        "  l2 = []\n",
        "  for i in l1:\n",
        "    for j in i:\n",
        "      l2.append(j)\n",
        "  print(f'The list of unique set of values from the given dictionary is: {list(set(l2))}')\n",
        "\n",
        "d = {'abc': [5, 6, 7, 8], 'def': [10, 11, 7, 5]}\n",
        "unique_val_dict(d)"
      ],
      "metadata": {
        "colab": {
          "base_uri": "https://localhost:8080/"
        },
        "id": "u44TG6Fp1cKN",
        "outputId": "50f3a126-34ab-4398-b22e-26f237c1da07"
      },
      "execution_count": 10,
      "outputs": [
        {
          "output_type": "stream",
          "name": "stdout",
          "text": [
            "The list of unique set of values from the given dictionary is: [5, 6, 7, 8, 10, 11]\n"
          ]
        }
      ]
    },
    {
      "cell_type": "code",
      "source": [
        "# write a function to reverse a sentence and check if the reversed sentenced is same as original sentence(using loop)\n",
        "\n",
        "def reverse_sentence(sentence):\n",
        "  words = sentence.split()\n",
        "  reversed_words = words[::-1]\n",
        "  reversed_sentence = ' '.join(reversed_words)\n",
        "  return reversed_sentence\n",
        "\n",
        "def is_palindrome(sentence):\n",
        "  reversed_sentence = reverse_sentence(sentence)\n",
        "  return sentence == reversed_sentence\n",
        "\n",
        "sentence = input(\"Enter a sentence: \")\n",
        "\n",
        "if is_palindrome(sentence):\n",
        "  print(\"The sentence is a palindrome.\")\n",
        "else:\n",
        "  print(\"The sentence is not a palindrome.\")\n"
      ],
      "metadata": {
        "colab": {
          "base_uri": "https://localhost:8080/"
        },
        "id": "meQqqXRv2Xr1",
        "outputId": "7452c4c6-4c3b-421f-9a83-f7e755d00921"
      },
      "execution_count": 11,
      "outputs": [
        {
          "output_type": "stream",
          "name": "stdout",
          "text": [
            "Enter a sentence: my name is nishant\n",
            "The sentence is not a palindrome.\n"
          ]
        }
      ]
    },
    {
      "cell_type": "code",
      "source": [
        "write a function to reverse a sentence and check if the reversed sentenced is same as original sentence(using loop)"
      ],
      "metadata": {
        "id": "e3KaA-fWN6sm"
      },
      "execution_count": null,
      "outputs": []
    },
    {
      "cell_type": "code",
      "source": [
        "def reverse_and_check(sentence):\n",
        "    reversed_sentence = ''\n",
        "    # Reversing the sentence\n",
        "    for i in range(len(sentence) - 1, -1, -1):\n",
        "        reversed_sentence += sentence[i]\n",
        "\n",
        "    # Checking if the reversed sentence is the same as the original\n",
        "    if reversed_sentence == sentence:\n",
        "        return True, reversed_sentence\n",
        "    else:\n",
        "        return False, reversed_sentence\n",
        "\n",
        "# Example usage\n",
        "original_sentence = \"hello world\"\n",
        "reverse_and_check(original_sentence)\n"
      ],
      "metadata": {
        "colab": {
          "base_uri": "https://localhost:8080/"
        },
        "id": "hmqSf7svPJGM",
        "outputId": "8fc527ad-2463-417b-e9b5-b9e321877495"
      },
      "execution_count": 12,
      "outputs": [
        {
          "output_type": "execute_result",
          "data": {
            "text/plain": [
              "(False, 'dlrow olleh')"
            ]
          },
          "metadata": {},
          "execution_count": 12
        }
      ]
    },
    {
      "cell_type": "code",
      "source": [
        "def are_rearrangements(str1, str2):\n",
        "    # Convert both strings to lowercase for case-insensitive comparison\n",
        "    str1 = str1.lower()\n",
        "    str2 = str2.lower()\n",
        "\n",
        "    # Sort characters in both strings\n",
        "    sorted_str1 = ''.join(sorted(str1))\n",
        "    sorted_str2 = ''.join(sorted(str2))\n",
        "\n",
        "    # Check if the sorted strings are equal\n",
        "    if sorted_str1 == sorted_str2:\n",
        "        return True\n",
        "    else:\n",
        "        return False\n",
        "\n",
        "# Example usage\n",
        "string1 = \"ABC\"\n",
        "string2 = \"cae\"\n",
        "are_rearrangements(string1, string2)\n",
        "\n"
      ],
      "metadata": {
        "colab": {
          "base_uri": "https://localhost:8080/"
        },
        "id": "zazMSTfGPQVL",
        "outputId": "01097a46-5fdb-4c0f-a554-5f4585468dba"
      },
      "execution_count": 14,
      "outputs": [
        {
          "output_type": "execute_result",
          "data": {
            "text/plain": [
              "False"
            ]
          },
          "metadata": {},
          "execution_count": 14
        }
      ]
    },
    {
      "cell_type": "code",
      "source": [
        "# 2. Python program to find the sum of all items in a dictionary\n",
        "def sum_of_all_items(dic):\n",
        "\n",
        "  sum = 0\n",
        "  for items in dic.values():\n",
        "    sum = sum + items\n",
        "  return sum\n",
        "dic = {'a' : 100, 'b' : 200, 'c' : 3000}\n",
        "print(\"Sum of all items in Given Dictionary : \", sum_of_all_items(dic))\n"
      ],
      "metadata": {
        "colab": {
          "base_uri": "https://localhost:8080/"
        },
        "id": "t-JbrCG4QOxm",
        "outputId": "dbe3d68f-4d57-42e7-cc34-c969ac1015c9"
      },
      "execution_count": 3,
      "outputs": [
        {
          "output_type": "stream",
          "name": "stdout",
          "text": [
            "Sum of all items in Given Dictionary :  3300\n"
          ]
        }
      ]
    },
    {
      "cell_type": "code",
      "source": [
        "#3. Python | Ways to remove a key from dictionary\n",
        "\n",
        "def remove_key(dic):\n",
        "  new_dic = {}\n",
        "  remove_key = str(input())\n",
        "  for key,value in dic.items():\n",
        "    if key == remove_key:\n",
        "      pass\n",
        "    else:\n",
        "      new_dic[key] = value\n",
        "  return new_dic\n",
        "\n",
        "dic = {'a' : 100, 'b' : 200, 'c' : 3000}\n",
        "\n",
        "print(\"After removing key from old dic, New dictionary : \", remove_key(dic))\n",
        "\n",
        ""
      ],
      "metadata": {
        "colab": {
          "base_uri": "https://localhost:8080/"
        },
        "id": "CaUzuR5jAHnw",
        "outputId": "c512a9ac-becc-4141-f328-89a3ba68ec08"
      },
      "execution_count": 17,
      "outputs": [
        {
          "output_type": "stream",
          "name": "stdout",
          "text": [
            "a\n",
            "After removing key from old dic, New dictionary :  {'b': 200, 'c': 3000}\n"
          ]
        }
      ]
    },
    {
      "cell_type": "code",
      "source": [
        "#other way\n",
        "def remove_key(dic):\n",
        "  new_dic = {}\n",
        "  for key,value in dic.items():\n",
        "    if key != 'a':\n",
        "      new_dic[key] = value\n",
        "  return new_dic\n",
        "\n",
        "dic = {'a' : 100, 'b' : 200, 'c' : 3000}\n",
        "\n",
        "print(\"After removing key from old dic, New dictionary : \", remove_key(dic))"
      ],
      "metadata": {
        "colab": {
          "base_uri": "https://localhost:8080/"
        },
        "id": "u196PZoVCTNn",
        "outputId": "297fe5a1-f825-42c1-ee19-8ab53ae04a45"
      },
      "execution_count": 18,
      "outputs": [
        {
          "output_type": "stream",
          "name": "stdout",
          "text": [
            "After removing key from old dic, New dictionary :  {'b': 200, 'c': 3000}\n"
          ]
        }
      ]
    },
    {
      "cell_type": "code",
      "source": [],
      "metadata": {
        "id": "PpShbLomEn_X"
      },
      "execution_count": null,
      "outputs": []
    }
  ]
}