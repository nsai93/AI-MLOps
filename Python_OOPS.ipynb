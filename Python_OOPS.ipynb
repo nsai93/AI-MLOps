{
  "nbformat": 4,
  "nbformat_minor": 0,
  "metadata": {
    "colab": {
      "provenance": [],
      "authorship_tag": "ABX9TyO5ue8G07HC/D08BRrSpgPM",
      "include_colab_link": true
    },
    "kernelspec": {
      "name": "python3",
      "display_name": "Python 3"
    },
    "language_info": {
      "name": "python"
    }
  },
  "cells": [
    {
      "cell_type": "markdown",
      "metadata": {
        "id": "view-in-github",
        "colab_type": "text"
      },
      "source": [
        "<a href=\"https://colab.research.google.com/github/nsai93/AI-MLOps/blob/main/Python_OOPS.ipynb\" target=\"_parent\"><img src=\"https://colab.research.google.com/assets/colab-badge.svg\" alt=\"Open In Colab\"/></a>"
      ]
    },
    {
      "cell_type": "code",
      "execution_count": null,
      "metadata": {
        "id": "FM14vqqIaXlS"
      },
      "outputs": [],
      "source": []
    },
    {
      "cell_type": "code",
      "source": [
        "#write code for sum number\n",
        "\n",
        "print(2+2)"
      ],
      "metadata": {
        "colab": {
          "base_uri": "https://localhost:8080/"
        },
        "id": "qLhHqQ8FpqeV",
        "outputId": "a4cacd66-aacb-40d7-e856-d364270f4875"
      },
      "execution_count": 1,
      "outputs": [
        {
          "output_type": "stream",
          "name": "stdout",
          "text": [
            "4\n"
          ]
        }
      ]
    },
    {
      "cell_type": "code",
      "source": [
        "write the code for sum number just testing"
      ],
      "metadata": {
        "id": "FQDN-j6NpY7K"
      },
      "execution_count": null,
      "outputs": []
    },
    {
      "cell_type": "code",
      "source": [],
      "metadata": {
        "id": "7emJvNvfpTD_"
      },
      "execution_count": null,
      "outputs": []
    },
    {
      "cell_type": "markdown",
      "source": [
        "create a College class in Python with methods for department, course, student, result, and placement, along with some basic attributes and methods"
      ],
      "metadata": {
        "id": "ylaPp4zxanp6"
      }
    },
    {
      "cell_type": "code",
      "source": [
        "class College:\n",
        "    def __init__(self, name, location):\n",
        "        self.name = name\n",
        "        self.location = location\n",
        "        self.departments = {}\n",
        "        self.courses = {}\n",
        "        self.students = {}\n",
        "        self.results = {}\n",
        "        self.placements = {}\n",
        "\n",
        "    def add_department(self, dept_name, dept_head):\n",
        "        self.departments[dept_name] = dept_head\n",
        "\n",
        "    def add_course(self, course_code, course_name, department):\n",
        "        if department in self.departments:\n",
        "            self.courses[course_code] = {'name': course_name, 'department': department}\n",
        "        else:\n",
        "            print(f\"Error: Department '{department}' does not exist.\")\n",
        "\n",
        "    def add_student(self, student_id, student_name, course_code):\n",
        "        if course_code in self.courses:\n",
        "            self.students[student_id] = {'name': student_name, 'course': course_code}\n",
        "        else:\n",
        "            print(f\"Error: Course '{course_code}' does not exist.\")\n",
        "\n",
        "    def add_result(self, student_id, subject, marks):\n",
        "        if student_id in self.students:\n",
        "            if student_id not in self.results:\n",
        "                self.results[student_id] = {}\n",
        "            self.results[student_id][subject] = marks\n",
        "        else:\n",
        "            print(f\"Error: Student with ID '{student_id}' does not exist.\")\n",
        "\n",
        "    def add_placement(self, student_id, company_name):\n",
        "        if student_id in self.students:\n",
        "            self.placements[student_id] = company_name\n",
        "        else:\n",
        "            print(f\"Error: Student with ID '{student_id}' does not exist.\")\n",
        "\n",
        "\n",
        "# Example usage\n",
        "my_college = College(\"ABC College\", \"City XYZ\")\n",
        "\n",
        "my_college.add_department(\"Computer Science\", \"Dr. John Doe\")\n",
        "my_college.add_department(\"Electrical Engineering\", \"Prof. Jane Smith\")\n",
        "\n",
        "my_college.add_course(\"CS101\", \"Introduction to Computer Science\", \"Computer Science\")\n",
        "my_college.add_course(\"EE101\", \"Introduction to Electrical Engineering\", \"Electrical Engineering\")\n",
        "\n",
        "my_college.add_student(\"1001\", \"Alice\", \"CS101\")\n",
        "my_college.add_student(\"1002\", \"Bob\", \"EE101\")\n",
        "\n",
        "my_college.add_result(\"1001\", \"Math\", 90)\n",
        "my_college.add_result(\"1001\", \"Physics\", 85)\n",
        "\n",
        "my_college.add_placement(\"1001\", \"TechCorp\")\n"
      ],
      "metadata": {
        "id": "o42eTSEDacAO"
      },
      "execution_count": null,
      "outputs": []
    },
    {
      "cell_type": "code",
      "source": [
        "ab = my_college.add_department(\"Computer Science\", \"Dr. John Doe\")"
      ],
      "metadata": {
        "id": "7AxTd4WJabvQ"
      },
      "execution_count": null,
      "outputs": []
    },
    {
      "cell_type": "code",
      "source": [],
      "metadata": {
        "id": "VX-D6FxzbGof"
      },
      "execution_count": null,
      "outputs": []
    },
    {
      "cell_type": "code",
      "source": [],
      "metadata": {
        "id": "E_SyxY-weItv"
      },
      "execution_count": null,
      "outputs": []
    },
    {
      "cell_type": "code",
      "source": [
        "class cal:\n",
        "  def __init__(self,a,b):\n",
        "    self.a=a\n",
        "    self.b=b\n",
        "  def add(self):\n",
        "    return self.a+self.b\n",
        "\n",
        "  def sub(self):\n",
        "    return self.a-self.b\n",
        "  def mul(self):\n",
        "    return self.a*self.b\n",
        "  def div(self):\n",
        "    return self.a/self.b\n",
        "\n",
        "c1 = cal(12,13)\n",
        "print(c1.add())\n",
        "print(c1.sub())\n",
        "print(c1.mul())\n",
        "print(c1.div())\n"
      ],
      "metadata": {
        "colab": {
          "base_uri": "https://localhost:8080/"
        },
        "id": "Fpw59UjDeIrN",
        "outputId": "7c5c3941-850b-4be7-cc2b-6a333303f989"
      },
      "execution_count": null,
      "outputs": [
        {
          "output_type": "stream",
          "name": "stdout",
          "text": [
            "25\n",
            "-1\n",
            "156\n",
            "0.9230769230769231\n"
          ]
        }
      ]
    },
    {
      "cell_type": "code",
      "source": [
        "# store\n",
        "#gor_item\n",
        "#elect_item\n",
        "#billing\n",
        "\n",
        "class store:\n",
        "  def __init__(self,name,location):\n",
        "    self.name=name\n",
        "    self.location = location\n",
        "\n",
        "  def item(self,gor_item,elect_item):\n",
        "    self.gor_item=gor_item\n",
        "    self.elect_item=elect_item\n",
        "    return self.gor_item, self.elect_item\n",
        "\n",
        "  def billing(self,gor_item_price,elect_item_price):\n",
        "    self.gor_item_price_in_rupe = gor_item_price\n",
        "    self.elect_item_price_in_rupe = elect_item_price\n",
        "    return self.gor_item_price_in_rupe, self.elect_item_price_in_rupe\n",
        "\n",
        "\n",
        "st = store(\"d-mart\", \"HSR\")\n",
        "print(st.item(10,2))\n",
        "print(st.billing(300,1000))\n"
      ],
      "metadata": {
        "colab": {
          "base_uri": "https://localhost:8080/"
        },
        "id": "TZbxl8gLeIok",
        "outputId": "b81b42b6-889a-441c-bafb-c8ca024c5685"
      },
      "execution_count": null,
      "outputs": [
        {
          "output_type": "stream",
          "name": "stdout",
          "text": [
            "(10, 2)\n",
            "(300, 1000)\n"
          ]
        }
      ]
    },
    {
      "cell_type": "code",
      "source": [],
      "metadata": {
        "id": "5qV4Z5V1jKG8"
      },
      "execution_count": null,
      "outputs": []
    },
    {
      "cell_type": "code",
      "source": [
        "class ab:\n",
        "  def __init__(self,d,e):\n",
        "    self.pa = d\n",
        "    self.fa = e\n",
        "\n",
        "  def add(self):\n",
        "    return self.pa+self.fa\n",
        "\n",
        "bb = ab(12,13)\n",
        "print(bb.add())"
      ],
      "metadata": {
        "colab": {
          "base_uri": "https://localhost:8080/"
        },
        "id": "l2tINl3aeIl4",
        "outputId": "49606335-234e-4483-9010-f02e123026a9"
      },
      "execution_count": null,
      "outputs": [
        {
          "output_type": "stream",
          "name": "stdout",
          "text": [
            "25\n"
          ]
        }
      ]
    },
    {
      "cell_type": "code",
      "source": [
        "class Vehicle:\n",
        "    def __init__(self, max_speed, mileage):\n",
        "        self.max_speed = max_speed\n",
        "        self.mileage = mileage\n",
        "\n",
        "modelX = Vehicle(240, 18)\n",
        "print(modelX.max_speed, modelX.mileage)"
      ],
      "metadata": {
        "id": "J21LV86_jEiI",
        "outputId": "1a55b0c0-2241-4f82-d15d-342da6068470",
        "colab": {
          "base_uri": "https://localhost:8080/"
        }
      },
      "execution_count": null,
      "outputs": [
        {
          "output_type": "stream",
          "name": "stdout",
          "text": [
            "240 18\n"
          ]
        }
      ]
    },
    {
      "cell_type": "code",
      "source": [],
      "metadata": {
        "id": "db-xsJ7o6ihg"
      },
      "execution_count": null,
      "outputs": []
    }
  ]
}